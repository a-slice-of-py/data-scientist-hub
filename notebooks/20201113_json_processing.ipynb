{
 "cells": [
  {
   "cell_type": "code",
   "execution_count": 23,
   "metadata": {},
   "outputs": [],
   "source": [
    "import json\n",
    "import os"
   ]
  },
  {
   "cell_type": "code",
   "execution_count": 24,
   "metadata": {},
   "outputs": [],
   "source": [
    "path = \"C:/Users/Sis/Documents/Silvio/projects/dsh/\"\n",
    "from_ = f\"{path}/trello-json\"\n",
    "to_ = f\"{path}/docs\""
   ]
  },
  {
   "cell_type": "code",
   "execution_count": 25,
   "metadata": {},
   "outputs": [],
   "source": [
    "def load_json(file):\n",
    "    with open(file) as f:\n",
    "        return json.load(f)"
   ]
  },
  {
   "cell_type": "code",
   "execution_count": 26,
   "metadata": {},
   "outputs": [],
   "source": [
    "sections = ['data-science', 'python', 'data-visualization', 'education', 'interviews', 'utils', 'courses', 'aws', 'data-engineering']"
   ]
  },
  {
   "cell_type": "code",
   "execution_count": 27,
   "metadata": {},
   "outputs": [],
   "source": [
    "for section in sections:\n",
    "    \n",
    "    section_dir = f'{to_}/{section}'\n",
    "    \n",
    "    # if not os.path.exists(section_dir):\n",
    "    #     os.makedirs(section_dir)\n",
    "        \n",
    "    data = load_json(f'{from_}/{section}.json')\n",
    "    \n",
    "    for checklist in data.get('checklists'):\n",
    "        \n",
    "        topic = checklist.get('name')\n",
    "        text = f\"# {topic}\\n\\n\"\n",
    "        for item in checklist.get('checkItems'):\n",
    "            text += f\"- []({item.get('name')})\\n\"\n",
    "        \n",
    "        with open(f\"{section_dir}/{topic.lower().replace(' ', '-').replace('/','-')}.md\", 'w') as file:\n",
    "            file.write(text)\n",
    "            file.close()   "
   ]
  },
  {
   "cell_type": "code",
   "execution_count": null,
   "metadata": {},
   "outputs": [],
   "source": []
  }
 ],
 "metadata": {
  "kernelspec": {
   "display_name": "Python 3",
   "language": "python",
   "name": "python3"
  },
  "language_info": {
   "codemirror_mode": {
    "name": "ipython",
    "version": 3
   },
   "file_extension": ".py",
   "mimetype": "text/x-python",
   "name": "python",
   "nbconvert_exporter": "python",
   "pygments_lexer": "ipython3",
   "version": "3.7.4"
  }
 },
 "nbformat": 4,
 "nbformat_minor": 4
}
