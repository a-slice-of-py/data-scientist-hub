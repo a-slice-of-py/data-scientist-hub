{
 "cells": [
  {
   "cell_type": "code",
   "execution_count": 1,
   "metadata": {},
   "outputs": [],
   "source": [
    "import os"
   ]
  },
  {
   "cell_type": "code",
   "execution_count": 2,
   "metadata": {},
   "outputs": [],
   "source": [
    "path = '../docs/resources/data-science'"
   ]
  },
  {
   "cell_type": "code",
   "execution_count": 16,
   "metadata": {},
   "outputs": [],
   "source": [
    "index = ['# Data Science', '\\n']\n",
    "blacklist = ('.pages', 'index.md')\n",
    "for file in os.listdir(path):\n",
    "    if file not in blacklist:\n",
    "        with open(f\"{path}/{file}\", 'r') as f:\n",
    "            contents = f.readlines()\n",
    "            contents[0] = f'#{contents[0]}'\n",
    "            index.extend(contents)\n",
    "        index.append('\\n')\n",
    "\n",
    "with open(f'{path}/index.md', 'w') as f:\n",
    "    f.writelines(index)"
   ]
  },
  {
   "cell_type": "code",
   "execution_count": 17,
   "metadata": {},
   "outputs": [
    {
     "data": {
      "text/plain": [
       "['.pages',\n",
       " 'aws',\n",
       " 'data-engineering',\n",
       " 'data-science',\n",
       " 'data-visualization',\n",
       " 'education',\n",
       " 'index.md',\n",
       " 'interviews',\n",
       " 'misc',\n",
       " 'python',\n",
       " 'tools',\n",
       " 'training']"
      ]
     },
     "execution_count": 17,
     "metadata": {},
     "output_type": "execute_result"
    }
   ],
   "source": [
    "os.listdir('../docs/resources')"
   ]
  }
 ],
 "metadata": {
  "interpreter": {
   "hash": "faf8d2d8ead3420d3920c0985c9bfb3c1582b8be8e0071ad55bacebcd80c943b"
  },
  "kernelspec": {
   "display_name": "Python 3.8.8 64-bit ('uc11': conda)",
   "language": "python",
   "name": "python3"
  },
  "language_info": {
   "codemirror_mode": {
    "name": "ipython",
    "version": 3
   },
   "file_extension": ".py",
   "mimetype": "text/x-python",
   "name": "python",
   "nbconvert_exporter": "python",
   "pygments_lexer": "ipython3",
   "version": "3.8.8"
  },
  "orig_nbformat": 4
 },
 "nbformat": 4,
 "nbformat_minor": 2
}
